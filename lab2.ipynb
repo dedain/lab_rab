{
 "cells": [
  {
   "cell_type": "markdown",
   "metadata": {},
   "source": [
    "# Лабораторная работа №2\n",
    "# Методы поиска\n",
    "## Выполнила студентка группы БСТ1901 Колесникова А.А.\n",
    "### Задание 1\n",
    "    * Реализовать методы поиска в соответствии с заданием.\n",
    "    * Организовать генерацию начального набора случайных данных.\n",
    "    * Для всех вариантов добавить реализацию добавления, поиска и удаления элементов.\n",
    "    * Оценить время работы каждого алгоритма поиска и сравнить его со временем работы стандартной функции поиска используемой в выбранном языке программирования\n",
    "### Методы:\n",
    "    1.Бинарный поиск\n",
    "    2.Бинарное дерево\n",
    "    3.Фибоначчиев\n",
    "    4.Интерполяционный"
   ]
  },
  {
   "cell_type": "markdown",
   "metadata": {},
   "source": [
    "#### Бинарный поиск"
   ]
  },
  {
   "cell_type": "code",
   "execution_count": 4,
   "metadata": {},
   "outputs": [
    {
     "name": "stdout",
     "output_type": "stream",
     "text": [
      "Массив:\n",
      "[-5, 2, 27, 49, 57, 57, 64, 66, 75, 81]\n",
      "2\n",
      "Индекс искомого числа = 1\n"
     ]
    }
   ],
   "source": [
    "from random import randint\n",
    "# Создание массива,\n",
    "# его сортировка по возрастанию\n",
    "# и вывод на экран\n",
    "massiv = []\n",
    "for i in range(10):\n",
    "    massiv.append(randint(-10, 100))\n",
    "massiv.sort()\n",
    "print(\"Массив:\")\n",
    "print(massiv)\n",
    "value = int(input()) # Искомое число вводится с клавиатуры\n",
    "mid = len(massiv) // 2 # Середина массива\n",
    "low = 0 # Нижняя граница массива\n",
    "high = len(massiv) - 1 # Верхняя граница массива\n",
    "while massiv[mid] != value and low <= high:\n",
    "    if value > massiv[mid]:\n",
    "        low = mid + 1\n",
    "    else:\n",
    "        high = mid - 1\n",
    "    mid = (low + high) // 2\n",
    "if low > high:\n",
    "    print(\"Число не найдено\")\n",
    "else:\n",
    "    print(\"Индекс искомого числа =\", mid)\n"
   ]
  },
  {
   "cell_type": "markdown",
   "metadata": {},
   "source": [
    "#### Бинарное дерево"
   ]
  },
  {
   "cell_type": "code",
   "execution_count": 6,
   "metadata": {},
   "outputs": [],
   "source": [
    "import random\n",
    "def random_matrix(m = 50, n = 50, min_limit = -250, max_limit = 1016):\n",
    "    return [[random.randint(min_limit, max_limit) for _ in range(n)] for _ in range(m)]\n",
    "class Tree:\n",
    "    def __init__(self, key, value):\n",
    "        self.key = key\n",
    "        self.value = value\n",
    "        self.left = self.right = None\n",
    "        \n",
    "class BinaryTreeMap:\n",
    "    root = None\n",
    "    \n",
    "    def insert(self, tree, key, value):\n",
    "        if tree is None:\n",
    "            return Tree(key, value)\n",
    "        if tree.key > key:\n",
    "            tree.left = self.insert(tree.left, key, value)\n",
    "        elif tree.key < key:\n",
    "            tree.right = self.insert(tree.right, key, value)\n",
    "        else:\n",
    "            tree.value = value\n",
    "        return tree\n",
    "            \n",
    "    def search(self, tree, key):\n",
    "        if tree is None or tree.key == key:\n",
    "            return tree\n",
    "        if tree.key > key:\n",
    "            return self.search(tree.left, key)\n",
    "        return self.search(tree.right, key)\n",
    "        \n",
    "    def __getitem__(self, key):\n",
    "        tree = self.search(self.root, key)\n",
    "        if tree is not None:\n",
    "            return tree.value\n",
    "        raise KeyError()\n",
    "    \n",
    "    def __setitem__(self, key, value):\n",
    "        if self.root is None:\n",
    "            self.root = self.insert(self.root, key, value)\n",
    "        else: self.insert(self.root, key, value)"
   ]
  },
  {
   "cell_type": "markdown",
   "metadata": {},
   "source": [
    "##### Фибоначчиев"
   ]
  },
  {
   "cell_type": "code",
   "execution_count": 7,
   "metadata": {},
   "outputs": [
    {
     "name": "stdout",
     "output_type": "stream",
     "text": [
      "Массив:\n",
      "[-2, 13, 21, 35, 38, 44, 44, 47, 48, 63]\n",
      "21\n",
      "Индекс искомого элемента = 2\n"
     ]
    }
   ],
   "source": [
    "def InterpolationSearch(massiv, val):\n",
    "    low = 0\n",
    "    high = (len(massiv) - 1)\n",
    "    while low <= high and val >= massiv[low] and val <= massiv[high]:\n",
    "        index = low + int(((float(high - low) / ( massiv[high] - massiv[low])) * ( val - massiv[low])))\n",
    "        if massiv[index] == val:\n",
    "            return index\n",
    "        if massiv[index] < val:\n",
    "            low = index + 1;\n",
    "        else:\n",
    "            high = index - 1;\n",
    "    return -1\n",
    "from random import randint\n",
    "# Создание массива,\n",
    "# его сортировка по возрастанию\n",
    "# и вывод на экран\n",
    "massiv = []\n",
    "for i in range(10):\n",
    "    massiv.append(randint(-10, 100))\n",
    "massiv.sort()\n",
    "print(\"Массив:\")\n",
    "print(massiv)\n",
    "val = int(input())\n",
    "index = InterpolationSearch(massiv, val)\n",
    "print(\"Индекс искомого элемента =\", index)"
   ]
  },
  {
   "cell_type": "markdown",
   "metadata": {},
   "source": [
    "#### Задание 2"
   ]
  },
  {
   "cell_type": "markdown",
   "metadata": {},
   "source": [
    "##### Алгоритмы:\n",
    "###### * Простое рехеширование\n",
    "###### * Рехэширование с помощью псевдослучайных чисел\n",
    "###### * Метод цепочек"
   ]
  },
  {
   "cell_type": "markdown",
   "metadata": {},
   "source": [
    "##### Простое рехеширование"
   ]
  },
  {
   "cell_type": "code",
   "execution_count": 3,
   "metadata": {},
   "outputs": [],
   "source": [
    "class HashMap:\n",
    "    def __init__(self):\n",
    "        self.size = 0\n",
    "        self.data = []\n",
    "        self._resize()\n",
    "    \n",
    "    def _hash(self, key, i):\n",
    "        return (hash(key) + i) % len(self.data)\n",
    "        \n",
    "    def _find(self, key):\n",
    "        i = 0;\n",
    "        index = self._hash(key, i);\n",
    "        while self.data[index] is not None and self.data[index][0] != key:\n",
    "            i += 1\n",
    "            index = self._hash(key, i);\n",
    "        return index;\n",
    "    \n",
    "    def _resize(self):\n",
    "        temp = self.data\n",
    "        self.data = [None] * (2*len(self.data) + 1)\n",
    "        for item in temp:\n",
    "            if item is not None:\n",
    "                self.data[self._find(item[0])] = item\n",
    "    \n",
    "    def __setitem__(self, key, value):\n",
    "        if self.size + 1 > len(self.data) // 2:\n",
    "            self._resize()\n",
    "        index = self._find(key)\n",
    "        if self.data[index] is None:  \n",
    "            self.size += 1\n",
    "        self.data[index] = (key, value)\n",
    "    \n",
    "    def __getitem__(self, key):\n",
    "        index = self._find(key)\n",
    "        if self.data[index] is not None:\n",
    "            return self.data[index][1]\n",
    "        raise KeyError()"
   ]
  },
  {
   "cell_type": "markdown",
   "metadata": {},
   "source": [
    "##### Рехеширование с помощью псевдонаучных чисел"
   ]
  },
  {
   "cell_type": "code",
   "execution_count": null,
   "metadata": {},
   "outputs": [],
   "source": [
    "class RandomHashMap(HashMap):\n",
    "    _rand_c = [5323]\n",
    "    \n",
    "    def _rand(self, i):\n",
    "        if len(self._rand_c) - 1 < i:\n",
    "            self._rand_c.append(self._rand(i - 1))\n",
    "        return (123456789 * self._rand_c[i] + 987654321) % 65546\n",
    "        \n",
    "    def _hash(self, key, i):\n",
    "        return (hash(key) + self._rand(i)) % len(self.data)"
   ]
  },
  {
   "cell_type": "markdown",
   "metadata": {},
   "source": [
    "##### Метод цепочек"
   ]
  },
  {
   "cell_type": "code",
   "execution_count": null,
   "metadata": {},
   "outputs": [],
   "source": [
    "class ChainMap:\n",
    "    def __init__(self):\n",
    "        self.size = 0\n",
    "        self.data = []\n",
    "        self._resize()\n",
    "    \n",
    "    def _hash(self, key):\n",
    "        return hash(key) % len(self.data)\n",
    "    \n",
    "    def _insert(self, index, item):\n",
    "        if self.data[index] is None:\n",
    "            self.data[index] = [item]\n",
    "            return True\n",
    "        else:\n",
    "            for i, item_ in enumerate(self.data[index]):\n",
    "                if item_[0] == item[0]:\n",
    "                    self.data[index][i] = item\n",
    "                    return False\n",
    "            self.data[index].append(item)\n",
    "            return True\n",
    "    \n",
    "    def _resize(self):\n",
    "        temp = self.data\n",
    "        self.data = [None] * (2*len(self.data) + 1)\n",
    "        for bucket in temp:\n",
    "            if bucket is not None:\n",
    "                for key, value in bucket:\n",
    "                    self._insert(self._hash(key), (key, value))\n",
    "    \n",
    "    def __setitem__(self, key, value):\n",
    "        if self.size + 1 > len(self.data) // 1.5:\n",
    "            self._resize()\n",
    "        if self._insert(self._hash(key), (key, value)):  \n",
    "            self.size += 1\n",
    "    \n",
    "    def __getitem__(self, key):\n",
    "        index = self._hash(key)\n",
    "        if self.data[index] is not None:\n",
    "            for key_, value in self.data[index]:\n",
    "                if key_ == key:\n",
    "                    return value\n",
    "        raise KeyError()"
   ]
  },
  {
   "cell_type": "markdown",
   "metadata": {},
   "source": [
    "#### Задание 3"
   ]
  },
  {
   "cell_type": "markdown",
   "metadata": {},
   "source": [
    "##### Расставить на стандартной 64-клеточной шахматной доске 8 ферзей так, чтобы ниодин из них не находился под боем другого». Подразумевается, что ферзь бьёт все клетки, расположенные по вертикалям, горизонталям и обеим диагоналям."
   ]
  },
  {
   "cell_type": "markdown",
   "metadata": {},
   "source": [
    "###### Написать программу, которая находит хотя бы один способ решения задач."
   ]
  },
  {
   "cell_type": "code",
   "execution_count": 5,
   "metadata": {},
   "outputs": [
    {
     "data": {
      "text/plain": [
       "[[0, 0, 1, 0, 0, 0, 0, 0, 0, 0],\n",
       " [0, 0, 0, 0, 0, 0, 0, 0, 0, 1],\n",
       " [0, 0, 0, 0, 0, 0, 1, 0, 0, 0],\n",
       " [0, 0, 0, 1, 0, 0, 0, 0, 0, 0],\n",
       " [0, 1, 0, 0, 0, 0, 0, 0, 0, 0],\n",
       " [0, 0, 0, 0, 0, 0, 0, 0, 1, 0],\n",
       " [0, 0, 0, 0, 0, 1, 0, 0, 0, 0],\n",
       " [1, 0, 0, 0, 0, 0, 0, 0, 0, 0],\n",
       " [0, 0, 0, 0, 1, 0, 0, 0, 0, 0],\n",
       " [0, 0, 0, 0, 0, 0, 0, 1, 0, 0]]"
      ]
     },
     "execution_count": 5,
     "metadata": {},
     "output_type": "execute_result"
    }
   ],
   "source": [
    "import random\n",
    "\n",
    "\n",
    "class ChessBoard:\n",
    "    def __init__(self, rows):\n",
    "        self.rows = rows\n",
    "        self.board = [[0 for _ in range(rows)] for _ in range(rows)]\n",
    "        self.validPositions = [[True for _ in range(rows)] for _ in range(rows)]\n",
    "        \n",
    "    def toDefault(self):\n",
    "        self.board = [[0 for _ in range(self.rows)] for _ in range(self.rows)]\n",
    "        self.validPositions = [[True for _ in range(self.rows)] for _ in range(self.rows)]\n",
    "    \n",
    "    def changeValid(self, row, column):\n",
    "        def changeRow(self, row):\n",
    "            for c in range(self.rows):\n",
    "                self.validPositions[row][c] = False\n",
    "        \n",
    "        def changeColumn(self, column):\n",
    "            for r in range(self.rows):\n",
    "                self.validPositions[r][column] = False\n",
    "        \n",
    "        def changeDiag(self, row, column):\n",
    "            def changeMainDiag(self, row, column):\n",
    "                if row <= column:\n",
    "                    startPosR = 0\n",
    "                    startPosC = column - row\n",
    "                else:\n",
    "                    startPosR = row - column\n",
    "                    startPosC = 0\n",
    "                for i in range(self.rows):\n",
    "                    try:\n",
    "                        self.validPositions[startPosR][startPosC] = False\n",
    "                        startPosR += 1\n",
    "                        startPosC += 1\n",
    "                    except IndexError:\n",
    "                        break\n",
    "            \n",
    "            def changeSecondaryDiag(self, row, column):\n",
    "                if row + column <= self.rows -1:\n",
    "                    startPosR = 0\n",
    "                    startPosC = column + row\n",
    "                else:\n",
    "                    startPosR = column - (self.rows - 1 - row)\n",
    "                    startPosC = self.rows - 1\n",
    "                for i in range(self.rows):\n",
    "                    self.validPositions[startPosR][startPosC] = False\n",
    "                    startPosR += 1\n",
    "                    if startPosR < 0 or startPosR > self.rows - 1:\n",
    "                        break\n",
    "                    startPosC -= 1\n",
    "                    if startPosC < 0 or startPosC > self.rows - 1:\n",
    "                        break\n",
    "            \n",
    "            changeMainDiag(self, row, column)\n",
    "            changeSecondaryDiag(self, row, column)\n",
    "        \n",
    "        \n",
    "        changeRow(self, row)\n",
    "        changeColumn(self, column)\n",
    "        changeDiag(self, row, column)\n",
    "    \n",
    "    \n",
    "    def placeQueens(self):\n",
    "        queenCount = 0\n",
    "        while True:\n",
    "            for i in range(self.rows):\n",
    "                jNums = list(range(self.rows))\n",
    "                while len(jNums) > 0:\n",
    "                    j = jNums.pop(random.randint(0, len(jNums)-1))\n",
    "                    if self.validPositions[i][j]:\n",
    "                        self.board[i][j] = 1\n",
    "                        self.changeValid(i, j)\n",
    "                        queenCount += 1\n",
    "                        break\n",
    "            \n",
    "            if queenCount < self.rows:\n",
    "                self.toDefault()\n",
    "                queenCount = 0\n",
    "            else:\n",
    "                break\n",
    "\n",
    "\n",
    "ch = ChessBoard(10)\n",
    "ch.placeQueens()\n",
    "ch.board"
   ]
  },
  {
   "cell_type": "code",
   "execution_count": null,
   "metadata": {},
   "outputs": [],
   "source": []
  }
 ],
 "metadata": {
  "kernelspec": {
   "display_name": "Python 3",
   "language": "python",
   "name": "python3"
  },
  "language_info": {
   "codemirror_mode": {
    "name": "ipython",
    "version": 3
   },
   "file_extension": ".py",
   "mimetype": "text/x-python",
   "name": "python",
   "nbconvert_exporter": "python",
   "pygments_lexer": "ipython3",
   "version": "3.8.5"
  }
 },
 "nbformat": 4,
 "nbformat_minor": 4
}
