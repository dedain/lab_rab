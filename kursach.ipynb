{
 "cells": [
  {
   "cell_type": "markdown",
   "metadata": {},
   "source": [
    "### Задача №1 «Треугольник с максимальным периметром»"
   ]
  },
  {
   "cell_type": "markdown",
   "metadata": {},
   "source": [
    "Массив A состоит из целых положительных чисел ­ длин отрезков. Составьте из трех отрезков такой треугольник, чтобы его периметр был максимально возможным. Если невозможно составить треугольник с положительной площадью ­ функция возвращает 0"
   ]
  },
  {
   "cell_type": "code",
   "execution_count": 14,
   "metadata": {},
   "outputs": [
    {
     "name": "stdout",
     "output_type": "stream",
     "text": [
      "Исходные данные:\n",
      "[[5788 9607 3326 7410 3715 9476]\n",
      " [ 279 8242 3726 4570 8611 8652]\n",
      " [9847 5195 1129 3277 4179 8282]]\n",
      "У треугольника со сторонами 8652 8242 3726 максимальный периметр 20620\n"
     ]
    }
   ],
   "source": [
    "import numpy as np\n",
    " \n",
    "np.random.seed(12) \n",
    "A = np.random.randint(1, 10000, size=(3, 6)) # массив случайных длинн строн треугольника\n",
    "rMax = np.argmax(A, axis=1) # индексы максимумов по строкам\n",
    " \n",
    "sMax = 0 # переменная для максимума\n",
    "b = 0 # индекс для максимума\n",
    " \n",
    "print('Исходные данные:\\n' + str(A))\n",
    " \n",
    "for i in range(len(A)):\n",
    "    # поставить максимальный элемент в первую ячейку строки\n",
    "    if rMax[i] != 0:\n",
    "        A[i,0], A[i, rMax[i]] = A[i, rMax[i]], A[i,0]\n",
    "        \n",
    "for i in range(len(A)):\n",
    "    if (A[i,0]) < (A[i,1] + A[i,2]): # треугольник существует\n",
    "        if (A[i,0] + A[i,1] + A[i,2]) > sMax: # поиск максимума\n",
    "            sMax, b = A[i,0] + A[i,1] + A[i,2], i\n",
    "            \n",
    "if b == 0:\n",
    "    print('Такого треугольника не существует')\n",
    "else:\n",
    "    print('У треугольника со сторонами', A[b,0], A[b,1], A[b,2], 'максимальный периметр', sMax)"
   ]
  },
  {
   "cell_type": "markdown",
   "metadata": {},
   "source": [
    "### Задача №2 «Максимальное число»"
   ]
  },
  {
   "cell_type": "markdown",
   "metadata": {},
   "source": [
    "Дан массив неотрицательных целых чисел nums. Расположите их в таком порядке, чтобы вместе они образовали максимально возможное число. Замечание: Результат может быть очень большим числом, поэтому представьте его как string, а не integer"
   ]
  },
  {
   "cell_type": "code",
   "execution_count": 17,
   "metadata": {},
   "outputs": [
    {
     "name": "stdout",
     "output_type": "stream",
     "text": [
      "210\n",
      "9534330\n",
      "1\n",
      "10\n"
     ]
    }
   ],
   "source": [
    "def mNum(arr):\n",
    "    def is_a_big_than_b(a, b):\n",
    "        ab = int(str(a) + str(b))\n",
    "        ba = int(str(b) + str(a))\n",
    "        if ab > ba:\n",
    "            return True\n",
    "        else:\n",
    "            return False\n",
    "    \n",
    "    def sortArr(arr):\n",
    "        for i in range(len(arr) - 1):\n",
    "            big = i\n",
    "            for j in range(i + 1, len(arr)):\n",
    "                if not is_a_big_than_b(arr[big], arr[j]):\n",
    "                    big = j\n",
    "            arr[i], arr[big] = arr[big], arr[i]\n",
    "    \n",
    "    sortArr(arr)\n",
    "    return ''.join(str(e) for e in arr)\n",
    "\n",
    "\n",
    "print(mNum([10,2]))\n",
    "print(mNum([3,30,34,5,9]))\n",
    "print(mNum([1]))\n",
    "print(mNum([0,1]))"
   ]
  },
  {
   "cell_type": "markdown",
   "metadata": {},
   "source": [
    "### Задача №3 «Сортировка диагоналей в матрице»"
   ]
  },
  {
   "cell_type": "markdown",
   "metadata": {},
   "source": [
    "Дана матрица mat размером m * n, значения ­ целочисленные. Напишите функцию, сортирующую каждую диагональ матрицы по возрастанию и возвращающую получившуюся матрицу."
   ]
  },
  {
   "cell_type": "code",
   "execution_count": 12,
   "metadata": {},
   "outputs": [
    {
     "name": "stdout",
     "output_type": "stream",
     "text": [
      "[[1, 1, 1, 1], [1, 2, 2, 2], [1, 2, 3, 3]]\n",
      "[[5, 17, 4, 1, 52, 7], [11, 11, 25, 45, 8, 69], [14, 23, 25, 44, 58, 15], [22, 27, 31, 36, 50, 66], [84, 28, 75, 33, 55, 68]]\n"
     ]
    }
   ],
   "source": [
    "def sortMat(matrix):\n",
    "    def comp(matrix, i ,j):\n",
    "        if i==0 or j==0:\n",
    "            return\n",
    "        try:\n",
    "            if matrix[i][j]<matrix[i-1][j-1]:\n",
    "                matrix[i][j],matrix[i-1][j-1]=matrix[i-1][j-1],matrix[i][j]\n",
    "                return(comp(matrix,i+1,j+1))\n",
    "        except IndexError:\n",
    "            return\n",
    "    for i in range(len(matrix)-1,-1,-1):\n",
    "        for j in range(0, len(matrix[i]),1):\n",
    "            comp(matrix,i,j)\n",
    "    return matrix\n",
    "print(sortMat([[3, 3, 1, 1], [2, 2, 1, 2], [1, 1, 1, 2]]))\n",
    "print(sortMat([[11, 25, 66, 1, 69, 7], [23, 55, 17, 45, 15, 52], [75, 31, 36,44, 58, 8], [22, 27, 33, 25, 68, 4], [84, 28, 14, 11, 5, 50]]))"
   ]
  },
  {
   "cell_type": "markdown",
   "metadata": {},
   "source": [
    "## Работа со строками"
   ]
  },
  {
   "cell_type": "markdown",
   "metadata": {},
   "source": [
    "### Задача 1"
   ]
  },
  {
   "cell_type": "markdown",
   "metadata": {},
   "source": [
    "Даны две строки: s1 и s2 с одинаковым размером, проверьте, может ли некоторая перестановка строки s1 “победить” некоторую перестановку строки s2 или наоборот. Строка x может “победить” строку y (обе имеют размер n), если x[i]> = y [i] (в алфавитном порядке) для всех i от 0 до n-1"
   ]
  },
  {
   "cell_type": "code",
   "execution_count": 4,
   "metadata": {},
   "outputs": [
    {
     "name": "stdout",
     "output_type": "stream",
     "text": [
      "True\n"
     ]
    }
   ],
   "source": [
    "def check(s1, s2):\n",
    "    s1 = sorted(s1)\n",
    "    s2 = sorted(s2)\n",
    "    flag1 = True\n",
    "    flag2 = True\n",
    "    for i in range(len(s1)):\n",
    "        if s1[i] > s2[i]:\n",
    "            flag2 = False\n",
    "        if s2[i] > s1[i]:\n",
    "            flag1 = False\n",
    "    return flag1 or flag2\n",
    "\n",
    "s1 = \"abc\"\n",
    "s2 = \"cda\"\n",
    "print(check(s1, s2))"
   ]
  },
  {
   "cell_type": "markdown",
   "metadata": {},
   "source": [
    "### Задача 2"
   ]
  },
  {
   "cell_type": "markdown",
   "metadata": {},
   "source": [
    "Дана строка s, вернуть самую длинную полиндромную подстроку в s."
   ]
  },
  {
   "cell_type": "code",
   "execution_count": 16,
   "metadata": {},
   "outputs": [
    {
     "name": "stdout",
     "output_type": "stream",
     "text": [
      "x2MADAM2x\n"
     ]
    }
   ],
   "source": [
    "def Palindromes(s):\n",
    "    s_rev = s[::-1]\n",
    "    return s_rev == s\n",
    "def Longest_Palindrome(s):\n",
    "    max_len = 1\n",
    "    Max_pal = s[0]\n",
    "    for i in range(len(s) - 1):\n",
    "        for j in range (i+1, len(s)):\n",
    "            if Palindromes(s[i:j]) and len(s[i:j]) > max_len:\n",
    "                max_len = len(s[i:j])\n",
    "                Max_pal = s[i:j]\n",
    "    return Max_pal\n",
    "\n",
    "s = \"abb2x2MADAM2xr\"\n",
    "print(Longest_Palindrome(s))"
   ]
  },
  {
   "cell_type": "markdown",
   "metadata": {},
   "source": [
    "### Задача 3"
   ]
  },
  {
   "cell_type": "markdown",
   "metadata": {},
   "source": [
    "Вернуть количество отдельных непустых подстрок текста, которые могут быть записаны как конкатенация некоторой строки с самой собой (т.е. она может быть записана, как a + a, где a - некоторая строка)"
   ]
  },
  {
   "cell_type": "code",
   "execution_count": 6,
   "metadata": {},
   "outputs": [
    {
     "name": "stdout",
     "output_type": "stream",
     "text": [
      "Введите строку: ababababab\n",
      "Введите подстроку: ab\n",
      "5\n"
     ]
    }
   ],
   "source": [
    "s = input(\"Введите строку: \")\n",
    "sb = input(\"Введите подстроку: \")\n",
    "results = 0\n",
    "sub_len = len(sb)\n",
    "for i in range(len(s)):\n",
    "    if s[i:i+sub_len] == sb:\n",
    "        results += 1\n",
    "print(results)"
   ]
  },
  {
   "cell_type": "markdown",
   "metadata": {},
   "source": [
    "## 27 февраля "
   ]
  },
  {
   "cell_type": "markdown",
   "metadata": {},
   "source": [
    "### Задача 1"
   ]
  },
  {
   "cell_type": "markdown",
   "metadata": {},
   "source": [
    "В Тридевятом Царстве уже много лет как установилась конституционная монархия. В парламент Тридевятого царства входят 26 партий, обозначаемых строчными буквами английского алфавита от «a» до «z». Заседание парламента в соответствии с регламентом проходит по следующей схеме:"
   ]
  },
  {
   "cell_type": "markdown",
   "metadata": {},
   "source": [
    "* В начале заседания никаких законопроектов на повестке дня не стоит.\n",
    "* Любая партия (в том числе и та, которая внесла текущий законопроект) в любой момент времени может внести на обсуждение новый законопроект.\n",
    "* При вносе партией нового законопроекта обсуждение предыдущего приостанавливается и начинается обсуждение нового. После того, как парламентарии голосуют за новый законопроект, обсуждение законопроекта, прерванного им, продолжается.\n",
    "* Дискуссия по любому законопроекту обязана завершиться голосованием по этому законопроекту.\n",
    "* В конце заседания не должно остаться внесённых законопроектов, дискуссия по которым не завершена.\n"
   ]
  },
  {
   "cell_type": "markdown",
   "metadata": {},
   "source": [
    "Вам дана запись о событиях на сессии парламента. Каждое событие является либо внесением нового законопроекта, либо голосованием за какой-то законопроект, причём в обоих случаях известен номер партии, этот законопроект предложившей. События даны в том порядке, в котором они происходили. Проверьте, может ли данная запись о событиях соответствовать какому-либо заседанию, удовлетворяющему порядку проведения, описанному выше.\n",
    "\n",
    "**Входные данные**\n",
    "\n",
    "Первая строка входных данных содержит одно целое число K – количество строк в записи сессии (1 ≤ K ≤ 1000). Каждая строка соответствует одному из двух событий:\n",
    "\n",
    "Add x – партия x внесла на голосование законопроект.\n",
    "Vote x – прошло голосование за документ, внесённый партией x.\n",
    "\n",
    "Здесь x – строчная буква английского алфавита от «a» до «z», задающая партию.\n",
    "\n",
    "**Вывод**\n",
    "\n",
    "Выведите «Yes», если существует корректный порядок проведения заседания, который мог привести к такой записи, и «No», если ни при каком корректном порядке проведения заседания данная запись появиться не могла."
   ]
  },
  {
   "cell_type": "code",
   "execution_count": 9,
   "metadata": {},
   "outputs": [],
   "source": [
    "def check(events):\n",
    "    stack = []\n",
    "    for e in events:\n",
    "        cmd, party = e.split()\n",
    "        if cmd == \"Add\":\n",
    "            stack.append(party)\n",
    "        elif stack.pop() != party:\n",
    "            return \"No\"\n",
    "    return \"Yes\" if len(stack) == 0 else \"No\"\n",
    "\n",
    "assert check([\"Add x\", \"Add y\", \"Vote y\", \"Vote x\"]) == \"Yes\"\n",
    "assert check([\"Add x\", \"Add x\", \"Vote y\", \"Vote x\"]) == \"No\"\n",
    "assert check([\"Add x\", \"Add y\"]) == \"No\"\n",
    "assert check([\"Add x\", \"Vote x\"]) == \"Yes\""
   ]
  },
  {
   "cell_type": "markdown",
   "metadata": {},
   "source": [
    "### Задача 2. Правильный подмногоугольник"
   ]
  },
  {
   "cell_type": "markdown",
   "metadata": {},
   "source": [
    "Задан правильный N-угольник. Требуется выбрать наименьшее количество его вершин, которые также образуют правильный многоугольник.\n",
    "\n",
    "**Входные данные**\n",
    "\n",
    "Входные данные содержат одно целое число N (3 ≤ N ≤ 10^12).\n",
    "\n",
    "**Вывод**\n",
    "\n",
    "Выведите одно число — наименьшее количество вершин заданного многоугольника, которые образуют правильный многоугольник"
   ]
  },
  {
   "cell_type": "code",
   "execution_count": 8,
   "metadata": {},
   "outputs": [],
   "source": [
    "def subpolygon(N):\n",
    "    for i in range(3, int(N**.5)+1):  # так максимум проверок 10^6  \n",
    "        if N % i == 0: return i\n",
    "    if N > 4 and N % 2 == 0:\n",
    "        # многоугольника из 2 вершин не существует\n",
    "        # но второй множитель явно больше 2 (для N > 4), поэтому если ничего из цикла не подошло\n",
    "        # то это число нам подходит\n",
    "        return N / 2\n",
    "    return N\n",
    "\n",
    "assert subpolygon(3) == 3\n",
    "assert subpolygon(4) == 4\n",
    "assert subpolygon(8) == 4\n",
    "assert subpolygon(9) == 3\n",
    "assert subpolygon(10) == 5\n",
    "assert subpolygon(11) == 11\n",
    "assert subpolygon(16) == 4\n",
    "assert subpolygon(5942430146) == 2971215073"
   ]
  },
  {
   "cell_type": "markdown",
   "metadata": {},
   "source": [
    "### Задача 3"
   ]
  },
  {
   "cell_type": "markdown",
   "metadata": {},
   "source": [
    "На форуме, на котором обсуждаются задачи олимпиад по информатике, ввели следующий аналог капчи. Участнику выдаётся строка из N десятичных цифр (без ведущих нулей). В качестве ответа требуется ввести такое основание системы счисления B, что в этой системе счисления выданная запись будет соответствовать составному числу (назовем его D), а также число X, большее 1 и меньшее D, являющееся делителем D.\n",
    "\n",
    "При этом B и X не должны превосходить 10^9. По заданной строке десятичных цифр найдите любую пару чисел B и X, удовлетворяющую ограничениям, или ответьте, что решения в заданных ограничениях не существует.\n",
    "\n",
    "**Входные данные**\n",
    "\n",
    "Входные данные состоят из непустой строки длиной до 3 ⋅ 10^6 символов, составленной из цифр от 0 до 9 и не начинающейся с 0.\n",
    "\n",
    "**Вывод**\n",
    "\n",
    "Если решение существует, выведите два числа – основание системы счисления B и делитель X, записанные в десятичной системе счисления. Оба числа должны удовлетворять ограничениям 2 ≤ B, X ≤ 10^9. Если решения не существует, выведите –1."
   ]
  },
  {
   "cell_type": "code",
   "execution_count": 10,
   "metadata": {},
   "outputs": [],
   "source": [
    "def captcha(s):\n",
    "    if len(s) == 1:\n",
    "        res = [0,0,0,2,0,2,0,2,3][int(s)-1]\n",
    "        if res:\n",
    "            return 10, res\n",
    "        return -1\n",
    "    S = sum(map(int, s))\n",
    "    if S == 1:\n",
    "        return 10, 2\n",
    "    return S + 1, S\n",
    "\n",
    "assert captcha('5') == -1\n",
    "assert captcha('8') == (10, 2)\n",
    "assert captcha('10') == (10, 2)\n",
    "assert captcha(\"19\") == (11, 10)"
   ]
  },
  {
   "cell_type": "code",
   "execution_count": null,
   "metadata": {},
   "outputs": [],
   "source": []
  }
 ],
 "metadata": {
  "kernelspec": {
   "display_name": "Python 3",
   "language": "python",
   "name": "python3"
  },
  "language_info": {
   "codemirror_mode": {
    "name": "ipython",
    "version": 3
   },
   "file_extension": ".py",
   "mimetype": "text/x-python",
   "name": "python",
   "nbconvert_exporter": "python",
   "pygments_lexer": "ipython3",
   "version": "3.8.5"
  }
 },
 "nbformat": 4,
 "nbformat_minor": 4
}
